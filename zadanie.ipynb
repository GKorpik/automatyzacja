{
 "cells": [
  {
   "cell_type": "code",
   "execution_count": 1,
   "id": "a645eef2",
   "metadata": {},
   "outputs": [],
   "source": [
    "import pandas as pd\n",
    "import numpy as np"
   ]
  },
  {
   "cell_type": "code",
   "execution_count": 2,
   "id": "44683a62",
   "metadata": {},
   "outputs": [
    {
     "data": {
      "text/html": [
       "<div><div id=4ccfbe7b-aea8-4957-a988-1d6d03d9f1b3 style=\"display:none; background-color:#9D6CFF; color:white; width:200px; height:30px; padding-left:5px; border-radius:4px; flex-direction:row; justify-content:space-around; align-items:center;\" onmouseover=\"this.style.backgroundColor='#BA9BF8'\" onmouseout=\"this.style.backgroundColor='#9D6CFF'\" onclick=\"window.commands?.execute('create-mitosheet-from-dataframe-output');\">See Full Dataframe in Mito</div> <script> if (window.commands?.hasCommand('create-mitosheet-from-dataframe-output')) document.getElementById('4ccfbe7b-aea8-4957-a988-1d6d03d9f1b3').style.display = 'flex' </script> <table border=\"1\" class=\"dataframe\">\n",
       "  <thead>\n",
       "    <tr style=\"text-align: right;\">\n",
       "      <th></th>\n",
       "      <th>koordynator</th>\n",
       "      <th>status</th>\n",
       "      <th>manago</th>\n",
       "    </tr>\n",
       "  </thead>\n",
       "  <tbody>\n",
       "    <tr>\n",
       "      <th>0</th>\n",
       "      <td>A S</td>\n",
       "      <td>zrobione</td>\n",
       "      <td>G K</td>\n",
       "    </tr>\n",
       "    <tr>\n",
       "      <th>1</th>\n",
       "      <td>A J</td>\n",
       "      <td>oczekuje</td>\n",
       "      <td>B K</td>\n",
       "    </tr>\n",
       "    <tr>\n",
       "      <th>2</th>\n",
       "      <td>S K</td>\n",
       "      <td>oczekuje</td>\n",
       "      <td>G K</td>\n",
       "    </tr>\n",
       "    <tr>\n",
       "      <th>3</th>\n",
       "      <td>S K</td>\n",
       "      <td>zrobione</td>\n",
       "      <td>G K</td>\n",
       "    </tr>\n",
       "    <tr>\n",
       "      <th>4</th>\n",
       "      <td>A J</td>\n",
       "      <td>oczekuje</td>\n",
       "      <td>B K</td>\n",
       "    </tr>\n",
       "    <tr>\n",
       "      <th>...</th>\n",
       "      <td>...</td>\n",
       "      <td>...</td>\n",
       "      <td>...</td>\n",
       "    </tr>\n",
       "    <tr>\n",
       "      <th>23</th>\n",
       "      <td>O S</td>\n",
       "      <td>zrobione</td>\n",
       "      <td>G K</td>\n",
       "    </tr>\n",
       "    <tr>\n",
       "      <th>24</th>\n",
       "      <td>S K</td>\n",
       "      <td>oczekuje</td>\n",
       "      <td>G K</td>\n",
       "    </tr>\n",
       "    <tr>\n",
       "      <th>25</th>\n",
       "      <td>S K</td>\n",
       "      <td>oczekuje</td>\n",
       "      <td>G K</td>\n",
       "    </tr>\n",
       "    <tr>\n",
       "      <th>26</th>\n",
       "      <td>S K</td>\n",
       "      <td>oczekuje</td>\n",
       "      <td>G K</td>\n",
       "    </tr>\n",
       "    <tr>\n",
       "      <th>27</th>\n",
       "      <td>S K</td>\n",
       "      <td>oczekuje</td>\n",
       "      <td>G K</td>\n",
       "    </tr>\n",
       "  </tbody>\n",
       "</table></div>"
      ],
      "text/plain": [
       "   koordynator    status manago\n",
       "0          A S  zrobione    G K\n",
       "1          A J  oczekuje    B K\n",
       "2          S K  oczekuje    G K\n",
       "3          S K  zrobione    G K\n",
       "4          A J  oczekuje    B K\n",
       "5          A J  zrobione    B K\n",
       "6          A J  zrobione    B K\n",
       "7          S K  oczekuje    G K\n",
       "8          S K  zrobione    G K\n",
       "9          S K  zrobione    G K\n",
       "10         O S  zrobione    G K\n",
       "11         O S  zrobione    G K\n",
       "12         O S  oczekuje    G K\n",
       "13         O S  oczekuje    G K\n",
       "14         O S  oczekuje    G K\n",
       "15         O S  zrobione    G K\n",
       "16         O S  oczekuje    G K\n",
       "17         A J  oczekuje    B K\n",
       "18         S K  oczekuje    G K\n",
       "19         O S  zrobione    G K\n",
       "20         O S  zrobione    G K\n",
       "21         O S  zrobione    G K\n",
       "22         O S  zrobione    G K\n",
       "23         O S  zrobione    G K\n",
       "24         S K  oczekuje    G K\n",
       "25         S K  oczekuje    G K\n",
       "26         S K  oczekuje    G K\n",
       "27         S K  oczekuje    G K"
      ]
     },
     "execution_count": 2,
     "metadata": {},
     "output_type": "execute_result"
    }
   ],
   "source": [
    "dane = pd.read_excel('dane.xls')\n",
    "dane"
   ]
  },
  {
   "cell_type": "markdown",
   "id": "70f78307",
   "metadata": {},
   "source": [
    "## Tabela przestawna "
   ]
  },
  {
   "cell_type": "code",
   "execution_count": 6,
   "id": "b98d6ebb",
   "metadata": {},
   "outputs": [
    {
     "data": {
      "text/html": [
       "<div><div id=b1af864f-a400-497c-9afb-c50ea4c9bfc9 style=\"display:none; background-color:#9D6CFF; color:white; width:200px; height:30px; padding-left:5px; border-radius:4px; flex-direction:row; justify-content:space-around; align-items:center;\" onmouseover=\"this.style.backgroundColor='#BA9BF8'\" onmouseout=\"this.style.backgroundColor='#9D6CFF'\" onclick=\"window.commands?.execute('create-mitosheet-from-dataframe-output');\">See Full Dataframe in Mito</div> <script> if (window.commands?.hasCommand('create-mitosheet-from-dataframe-output')) document.getElementById('b1af864f-a400-497c-9afb-c50ea4c9bfc9').style.display = 'flex' </script> <table border=\"1\" class=\"dataframe\">\n",
       "  <thead>\n",
       "    <tr style=\"text-align: right;\">\n",
       "      <th>status</th>\n",
       "      <th>oczekuje</th>\n",
       "      <th>zrobione</th>\n",
       "    </tr>\n",
       "    <tr>\n",
       "      <th>koordynator</th>\n",
       "      <th></th>\n",
       "      <th></th>\n",
       "    </tr>\n",
       "  </thead>\n",
       "  <tbody>\n",
       "    <tr>\n",
       "      <th>A J</th>\n",
       "      <td>3.0</td>\n",
       "      <td>2.0</td>\n",
       "    </tr>\n",
       "    <tr>\n",
       "      <th>A S</th>\n",
       "      <td>NaN</td>\n",
       "      <td>1.0</td>\n",
       "    </tr>\n",
       "    <tr>\n",
       "      <th>O S</th>\n",
       "      <td>4.0</td>\n",
       "      <td>8.0</td>\n",
       "    </tr>\n",
       "    <tr>\n",
       "      <th>S K</th>\n",
       "      <td>7.0</td>\n",
       "      <td>3.0</td>\n",
       "    </tr>\n",
       "  </tbody>\n",
       "</table></div>"
      ],
      "text/plain": [
       "status       oczekuje  zrobione\n",
       "koordynator                    \n",
       "A J               3.0       2.0\n",
       "A S               NaN       1.0\n",
       "O S               4.0       8.0\n",
       "S K               7.0       3.0"
      ]
     },
     "execution_count": 6,
     "metadata": {},
     "output_type": "execute_result"
    }
   ],
   "source": [
    "table = pd.pivot_table(dane, values='status', index='koordynator',\n",
    "                    columns=['status'], aggfunc='count')\n",
    "\n",
    "\n",
    "table.to_excel('raport.xlsx')\n",
    "table"
   ]
  },
  {
   "cell_type": "markdown",
   "id": "dba190f1",
   "metadata": {},
   "source": [
    "## Raport dla konkretnego menadzera"
   ]
  },
  {
   "cell_type": "code",
   "execution_count": 7,
   "id": "bf6cdbe7",
   "metadata": {},
   "outputs": [],
   "source": [
    "def generowanie_raportow(dane):\n",
    "    \n",
    "    lista_menadzerow = dane.manago.unique() #lista unikalnych menadzerów\n",
    "    \n",
    "    for x in range(len(lista_menadzerow)):\n",
    "\n",
    "        manadzer = dane[dane.manago == lista_menadzerow[x]] \n",
    "\n",
    "        table = pd.pivot_table(manadzer, values='status', index='koordynator',\n",
    "                        columns=['status'], aggfunc='count')\n",
    "        \n",
    "        table['procent%'] = table['zrobione'] / table['oczekuje'] * 100 #kolumna z procentami\n",
    "        \n",
    "        table.to_excel(lista_menadzerow[x] +'.xlsx') #zapis\n",
    "\n",
    "        \n",
    "generowanie_raportow(dane)"
   ]
  }
 ],
 "metadata": {
  "kernelspec": {
   "display_name": "Python 3 (ipykernel)",
   "language": "python",
   "name": "python3"
  },
  "language_info": {
   "codemirror_mode": {
    "name": "ipython",
    "version": 3
   },
   "file_extension": ".py",
   "mimetype": "text/x-python",
   "name": "python",
   "nbconvert_exporter": "python",
   "pygments_lexer": "ipython3",
   "version": "3.9.9"
  }
 },
 "nbformat": 4,
 "nbformat_minor": 5
}
